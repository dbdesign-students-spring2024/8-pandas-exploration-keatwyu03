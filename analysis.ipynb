{
 "cells": [
  {
   "cell_type": "markdown",
   "metadata": {},
   "source": [
    "# pandas exploration\n",
    "In this assignment you will select a data set and do some munging and analysis of it using `pandas`, Jupyter Notebooks, and associated Python-centric data science tools."
   ]
  },
  {
   "attachments": {},
   "cell_type": "markdown",
   "metadata": {},
   "source": [
    "## Set up environment"
   ]
  },
  {
   "attachments": {},
   "cell_type": "markdown",
   "metadata": {},
   "source": [
    "The following lines ensure that `numpy` and `pandas` are installed in the notebook environment.  Depending on your system, this may not be necessary and may be removed."
   ]
  },
  {
   "cell_type": "code",
   "execution_count": 1,
   "metadata": {},
   "outputs": [
    {
     "name": "stdout",
     "output_type": "stream",
     "text": [
      "Requirement already satisfied: numpy in /Users/kadenwu/anaconda3/lib/python3.10/site-packages (1.26.4)\n",
      "Requirement already satisfied: pandas in /Users/kadenwu/anaconda3/lib/python3.10/site-packages (1.5.3)\n",
      "Requirement already satisfied: python-dateutil>=2.8.1 in /Users/kadenwu/anaconda3/lib/python3.10/site-packages (from pandas) (2.8.2)\n",
      "Requirement already satisfied: pytz>=2020.1 in /Users/kadenwu/anaconda3/lib/python3.10/site-packages (from pandas) (2022.7)\n",
      "Requirement already satisfied: numpy>=1.21.0 in /Users/kadenwu/anaconda3/lib/python3.10/site-packages (from pandas) (1.26.4)\n",
      "Requirement already satisfied: six>=1.5 in /Users/kadenwu/anaconda3/lib/python3.10/site-packages (from python-dateutil>=2.8.1->pandas) (1.16.0)\n"
     ]
    }
   ],
   "source": [
    "!pip install numpy\n",
    "!pip install pandas"
   ]
  },
  {
   "cell_type": "markdown",
   "metadata": {},
   "source": [
    "Import the core data science libraries:"
   ]
  },
  {
   "cell_type": "code",
   "execution_count": 2,
   "metadata": {},
   "outputs": [],
   "source": [
    "%matplotlib inline\n",
    "import matplotlib.pyplot as plt\n",
    "import numpy as np\n",
    "import pandas as pd\n",
    "import pymongo"
   ]
  },
  {
   "cell_type": "markdown",
   "metadata": {},
   "source": [
    "## Import the raw data\n",
    "In this section, you will import the raw data into a `pandas` DataFrame."
   ]
  },
  {
   "cell_type": "code",
   "execution_count": 3,
   "metadata": {},
   "outputs": [],
   "source": [
    "# place your code into this Code cell\n",
    "df = pd.read_csv(\"data/2017-18__-_2021-22_Demographic_Snapshot_20240420.csv\")"
   ]
  },
  {
   "cell_type": "markdown",
   "metadata": {},
   "source": [
    "## Data inspection\n",
    "In this section, you will show enough of your data for a viewer to get a general sense of how the data is structured and any unique features of it.  Complete each of the indicated tasks in a Code cell, making sure to include a Markdown cell above each Code cell that explains what is being shown by the code.  \n",
    "- Show 5 rows, selected at random, from the data set.\n",
    "- Show each of the column names and their data types.\n",
    "- Show any unique features of your chosen data set.\n",
    "\n",
    "Feel free to add as many additional cells as you need to help explain the raw data."
   ]
  },
  {
   "cell_type": "markdown",
   "metadata": {},
   "source": [
    "This next block prints out the first 5 rows of the data set."
   ]
  },
  {
   "cell_type": "code",
   "execution_count": 4,
   "metadata": {},
   "outputs": [
    {
     "data": {
      "text/html": [
       "<div>\n",
       "<style scoped>\n",
       "    .dataframe tbody tr th:only-of-type {\n",
       "        vertical-align: middle;\n",
       "    }\n",
       "\n",
       "    .dataframe tbody tr th {\n",
       "        vertical-align: top;\n",
       "    }\n",
       "\n",
       "    .dataframe thead th {\n",
       "        text-align: right;\n",
       "    }\n",
       "</style>\n",
       "<table border=\"1\" class=\"dataframe\">\n",
       "  <thead>\n",
       "    <tr style=\"text-align: right;\">\n",
       "      <th></th>\n",
       "      <th>DBN</th>\n",
       "      <th>School Name</th>\n",
       "      <th>Year</th>\n",
       "      <th>Total Enrollment</th>\n",
       "      <th>Grade 3K</th>\n",
       "      <th>Grade PK (Half Day &amp; Full Day)</th>\n",
       "      <th>Grade K</th>\n",
       "      <th>Grade 1</th>\n",
       "      <th>Grade 2</th>\n",
       "      <th>Grade 3</th>\n",
       "      <th>...</th>\n",
       "      <th>% White</th>\n",
       "      <th># Missing Race/Ethnicity Data</th>\n",
       "      <th>% Missing Race/Ethnicity Data</th>\n",
       "      <th># Students with Disabilities</th>\n",
       "      <th>% Students with Disabilities</th>\n",
       "      <th># English Language Learners</th>\n",
       "      <th>% English Language Learners</th>\n",
       "      <th># Poverty</th>\n",
       "      <th>% Poverty</th>\n",
       "      <th>Economic Need Index</th>\n",
       "    </tr>\n",
       "  </thead>\n",
       "  <tbody>\n",
       "    <tr>\n",
       "      <th>0</th>\n",
       "      <td>01M015</td>\n",
       "      <td>P.S. 015 Roberto Clemente</td>\n",
       "      <td>2017-18</td>\n",
       "      <td>190</td>\n",
       "      <td>0</td>\n",
       "      <td>17</td>\n",
       "      <td>28</td>\n",
       "      <td>32</td>\n",
       "      <td>33</td>\n",
       "      <td>23</td>\n",
       "      <td>...</td>\n",
       "      <td>0.032</td>\n",
       "      <td>0</td>\n",
       "      <td>0.0</td>\n",
       "      <td>49</td>\n",
       "      <td>0.258</td>\n",
       "      <td>8</td>\n",
       "      <td>0.042</td>\n",
       "      <td>161</td>\n",
       "      <td>84.7%</td>\n",
       "      <td>89.0%</td>\n",
       "    </tr>\n",
       "    <tr>\n",
       "      <th>1</th>\n",
       "      <td>01M015</td>\n",
       "      <td>P.S. 015 Roberto Clemente</td>\n",
       "      <td>2018-19</td>\n",
       "      <td>174</td>\n",
       "      <td>0</td>\n",
       "      <td>13</td>\n",
       "      <td>20</td>\n",
       "      <td>33</td>\n",
       "      <td>30</td>\n",
       "      <td>30</td>\n",
       "      <td>...</td>\n",
       "      <td>0.034</td>\n",
       "      <td>0</td>\n",
       "      <td>0.0</td>\n",
       "      <td>39</td>\n",
       "      <td>0.224</td>\n",
       "      <td>8</td>\n",
       "      <td>0.046</td>\n",
       "      <td>147</td>\n",
       "      <td>84.5%</td>\n",
       "      <td>88.8%</td>\n",
       "    </tr>\n",
       "    <tr>\n",
       "      <th>2</th>\n",
       "      <td>01M015</td>\n",
       "      <td>P.S. 015 Roberto Clemente</td>\n",
       "      <td>2019-20</td>\n",
       "      <td>190</td>\n",
       "      <td>0</td>\n",
       "      <td>14</td>\n",
       "      <td>29</td>\n",
       "      <td>28</td>\n",
       "      <td>38</td>\n",
       "      <td>33</td>\n",
       "      <td>...</td>\n",
       "      <td>0.047</td>\n",
       "      <td>0</td>\n",
       "      <td>0.0</td>\n",
       "      <td>46</td>\n",
       "      <td>0.242</td>\n",
       "      <td>17</td>\n",
       "      <td>0.089</td>\n",
       "      <td>155</td>\n",
       "      <td>81.6%</td>\n",
       "      <td>86.7%</td>\n",
       "    </tr>\n",
       "    <tr>\n",
       "      <th>3</th>\n",
       "      <td>01M015</td>\n",
       "      <td>P.S. 015 Roberto Clemente</td>\n",
       "      <td>2020-21</td>\n",
       "      <td>193</td>\n",
       "      <td>0</td>\n",
       "      <td>17</td>\n",
       "      <td>29</td>\n",
       "      <td>29</td>\n",
       "      <td>27</td>\n",
       "      <td>30</td>\n",
       "      <td>...</td>\n",
       "      <td>0.057</td>\n",
       "      <td>0</td>\n",
       "      <td>0.0</td>\n",
       "      <td>44</td>\n",
       "      <td>0.228</td>\n",
       "      <td>21</td>\n",
       "      <td>0.109</td>\n",
       "      <td>161</td>\n",
       "      <td>83.4%</td>\n",
       "      <td>86.4%</td>\n",
       "    </tr>\n",
       "    <tr>\n",
       "      <th>4</th>\n",
       "      <td>01M015</td>\n",
       "      <td>P.S. 015 Roberto Clemente</td>\n",
       "      <td>2021-22</td>\n",
       "      <td>179</td>\n",
       "      <td>0</td>\n",
       "      <td>15</td>\n",
       "      <td>30</td>\n",
       "      <td>26</td>\n",
       "      <td>24</td>\n",
       "      <td>22</td>\n",
       "      <td>...</td>\n",
       "      <td>0.067</td>\n",
       "      <td>0</td>\n",
       "      <td>0.0</td>\n",
       "      <td>38</td>\n",
       "      <td>0.212</td>\n",
       "      <td>11</td>\n",
       "      <td>0.061</td>\n",
       "      <td>150</td>\n",
       "      <td>83.8%</td>\n",
       "      <td>87.9%</td>\n",
       "    </tr>\n",
       "  </tbody>\n",
       "</table>\n",
       "<p>5 rows × 44 columns</p>\n",
       "</div>"
      ],
      "text/plain": [
       "      DBN                School Name     Year  Total Enrollment  Grade 3K  \\\n",
       "0  01M015  P.S. 015 Roberto Clemente  2017-18               190         0   \n",
       "1  01M015  P.S. 015 Roberto Clemente  2018-19               174         0   \n",
       "2  01M015  P.S. 015 Roberto Clemente  2019-20               190         0   \n",
       "3  01M015  P.S. 015 Roberto Clemente  2020-21               193         0   \n",
       "4  01M015  P.S. 015 Roberto Clemente  2021-22               179         0   \n",
       "\n",
       "   Grade PK (Half Day & Full Day)  Grade K  Grade 1  Grade 2  Grade 3  ...  \\\n",
       "0                              17       28       32       33       23  ...   \n",
       "1                              13       20       33       30       30  ...   \n",
       "2                              14       29       28       38       33  ...   \n",
       "3                              17       29       29       27       30  ...   \n",
       "4                              15       30       26       24       22  ...   \n",
       "\n",
       "   % White  # Missing Race/Ethnicity Data  % Missing Race/Ethnicity Data  \\\n",
       "0    0.032                              0                            0.0   \n",
       "1    0.034                              0                            0.0   \n",
       "2    0.047                              0                            0.0   \n",
       "3    0.057                              0                            0.0   \n",
       "4    0.067                              0                            0.0   \n",
       "\n",
       "   # Students with Disabilities  % Students with Disabilities  \\\n",
       "0                            49                         0.258   \n",
       "1                            39                         0.224   \n",
       "2                            46                         0.242   \n",
       "3                            44                         0.228   \n",
       "4                            38                         0.212   \n",
       "\n",
       "   # English Language Learners  % English Language Learners  # Poverty  \\\n",
       "0                            8                        0.042        161   \n",
       "1                            8                        0.046        147   \n",
       "2                           17                        0.089        155   \n",
       "3                           21                        0.109        161   \n",
       "4                           11                        0.061        150   \n",
       "\n",
       "   % Poverty  Economic Need Index  \n",
       "0      84.7%                89.0%  \n",
       "1      84.5%                88.8%  \n",
       "2      81.6%                86.7%  \n",
       "3      83.4%                86.4%  \n",
       "4      83.8%                87.9%  \n",
       "\n",
       "[5 rows x 44 columns]"
      ]
     },
     "execution_count": 4,
     "metadata": {},
     "output_type": "execute_result"
    }
   ],
   "source": [
    "df.head()"
   ]
  },
  {
   "cell_type": "markdown",
   "metadata": {},
   "source": [
    "This next block prints out all the columns of the dataset (without any treatment)"
   ]
  },
  {
   "cell_type": "code",
   "execution_count": 5,
   "metadata": {},
   "outputs": [
    {
     "data": {
      "text/plain": [
       "Index(['DBN', 'School Name', 'Year', 'Total Enrollment', 'Grade 3K',\n",
       "       'Grade PK (Half Day & Full Day)', 'Grade K', 'Grade 1', 'Grade 2',\n",
       "       'Grade 3', 'Grade 4', 'Grade 5', 'Grade 6', 'Grade 7', 'Grade 8',\n",
       "       'Grade 9', 'Grade 10', 'Grade 11', 'Grade 12', '# Female', '% Female',\n",
       "       '# Male', '% Male', '# Asian', '% Asian', '# Black', '% Black',\n",
       "       '# Hispanic', '% Hispanic', '# Multi-Racial', '% Multi-Racial',\n",
       "       '# Native American', '% Native American', '# White', '% White',\n",
       "       '# Missing Race/Ethnicity Data', '% Missing Race/Ethnicity Data',\n",
       "       '# Students with Disabilities', '% Students with Disabilities',\n",
       "       '# English Language Learners', '% English Language Learners',\n",
       "       '# Poverty', '% Poverty', 'Economic Need Index'],\n",
       "      dtype='object')"
      ]
     },
     "execution_count": 5,
     "metadata": {},
     "output_type": "execute_result"
    }
   ],
   "source": [
    "df.columns"
   ]
  },
  {
   "cell_type": "markdown",
   "metadata": {},
   "source": [
    "The following block lists out all the different columns names and the datatype of the column."
   ]
  },
  {
   "cell_type": "code",
   "execution_count": 6,
   "metadata": {},
   "outputs": [
    {
     "data": {
      "text/plain": [
       "DBN                                object\n",
       "School Name                        object\n",
       "Year                               object\n",
       "Total Enrollment                    int64\n",
       "Grade 3K                            int64\n",
       "Grade PK (Half Day & Full Day)      int64\n",
       "Grade K                             int64\n",
       "Grade 1                             int64\n",
       "Grade 2                             int64\n",
       "Grade 3                             int64\n",
       "Grade 4                             int64\n",
       "Grade 5                             int64\n",
       "Grade 6                             int64\n",
       "Grade 7                             int64\n",
       "Grade 8                             int64\n",
       "Grade 9                             int64\n",
       "Grade 10                            int64\n",
       "Grade 11                            int64\n",
       "Grade 12                            int64\n",
       "# Female                            int64\n",
       "% Female                          float64\n",
       "# Male                              int64\n",
       "% Male                            float64\n",
       "# Asian                             int64\n",
       "% Asian                           float64\n",
       "# Black                             int64\n",
       "% Black                           float64\n",
       "# Hispanic                          int64\n",
       "% Hispanic                        float64\n",
       "# Multi-Racial                      int64\n",
       "% Multi-Racial                    float64\n",
       "# Native American                   int64\n",
       "% Native American                 float64\n",
       "# White                             int64\n",
       "% White                           float64\n",
       "# Missing Race/Ethnicity Data       int64\n",
       "% Missing Race/Ethnicity Data     float64\n",
       "# Students with Disabilities        int64\n",
       "% Students with Disabilities      float64\n",
       "# English Language Learners         int64\n",
       "% English Language Learners       float64\n",
       "# Poverty                          object\n",
       "% Poverty                          object\n",
       "Economic Need Index                object\n",
       "dtype: object"
      ]
     },
     "execution_count": 6,
     "metadata": {},
     "output_type": "execute_result"
    }
   ],
   "source": [
    "df.dtypes"
   ]
  },
  {
   "cell_type": "markdown",
   "metadata": {},
   "source": [
    "The following code block outputs the dimension of the data set (# rows, # columns)"
   ]
  },
  {
   "cell_type": "code",
   "execution_count": 7,
   "metadata": {},
   "outputs": [
    {
     "data": {
      "text/plain": [
       "(9251, 44)"
      ]
     },
     "execution_count": 7,
     "metadata": {},
     "output_type": "execute_result"
    }
   ],
   "source": [
    "df.shape"
   ]
  },
  {
   "cell_type": "markdown",
   "metadata": {},
   "source": [
    "## Data munging\n",
    "Place your **data munging** code and documentation within this section.  \n",
    "- Keep each of your Code cells short and focused on a single task.  \n",
    "- Include a Markdown cell above each code cell that describes what task the code within the code cell is performing.\n",
    "- Make as many code cells as you need to complete the munging - a few have been created for you to start with.\n",
    "- Display 5 sample rows of the modified data after each transformation so a viewer can see how the data has changed.\n",
    "\n",
    "**Note**: If you believe that your data set does not require any munging, please explain in detail.  Create Markdown cells that explain your thinking and create Code cells that show any specific structures of the data you refer to in your explanation."
   ]
  },
  {
   "cell_type": "markdown",
   "metadata": {},
   "source": [
    "After importing the data, I realized that there are no rows with empty elements. Hence I just did it just to make sure. But the following 2 code blocks would drop the columns I didn't anticipate myself needing (the # of people that were in each grade in each school)."
   ]
  },
  {
   "cell_type": "code",
   "execution_count": 8,
   "metadata": {},
   "outputs": [],
   "source": [
    "cols_toDrop = [\"Grade 3K\", \"Grade PK (Half Day & Full Day)\", \"Grade K\", \"Grade 1\", \"Grade 2\", \"Grade 3\", \"Grade 4\", \"Grade 5\", \"Grade 6\", \"Grade 7\", \"Grade 8\", \"Grade 9\", \"Grade 10\", \"Grade 11\", \"Grade 12\"]\n",
    "df.drop(cols_toDrop, axis=1, inplace = True)"
   ]
  },
  {
   "cell_type": "code",
   "execution_count": 9,
   "metadata": {},
   "outputs": [],
   "source": [
    "df.dropna(inplace = True)"
   ]
  },
  {
   "cell_type": "markdown",
   "metadata": {},
   "source": [
    "Then I printed out the first 5 rows of the dataset to check if the columns I intended to drop were still in the dataset. "
   ]
  },
  {
   "cell_type": "code",
   "execution_count": 10,
   "metadata": {},
   "outputs": [
    {
     "data": {
      "text/html": [
       "<div>\n",
       "<style scoped>\n",
       "    .dataframe tbody tr th:only-of-type {\n",
       "        vertical-align: middle;\n",
       "    }\n",
       "\n",
       "    .dataframe tbody tr th {\n",
       "        vertical-align: top;\n",
       "    }\n",
       "\n",
       "    .dataframe thead th {\n",
       "        text-align: right;\n",
       "    }\n",
       "</style>\n",
       "<table border=\"1\" class=\"dataframe\">\n",
       "  <thead>\n",
       "    <tr style=\"text-align: right;\">\n",
       "      <th></th>\n",
       "      <th>DBN</th>\n",
       "      <th>School Name</th>\n",
       "      <th>Year</th>\n",
       "      <th>Total Enrollment</th>\n",
       "      <th># Female</th>\n",
       "      <th>% Female</th>\n",
       "      <th># Male</th>\n",
       "      <th>% Male</th>\n",
       "      <th># Asian</th>\n",
       "      <th>% Asian</th>\n",
       "      <th>...</th>\n",
       "      <th>% White</th>\n",
       "      <th># Missing Race/Ethnicity Data</th>\n",
       "      <th>% Missing Race/Ethnicity Data</th>\n",
       "      <th># Students with Disabilities</th>\n",
       "      <th>% Students with Disabilities</th>\n",
       "      <th># English Language Learners</th>\n",
       "      <th>% English Language Learners</th>\n",
       "      <th># Poverty</th>\n",
       "      <th>% Poverty</th>\n",
       "      <th>Economic Need Index</th>\n",
       "    </tr>\n",
       "  </thead>\n",
       "  <tbody>\n",
       "    <tr>\n",
       "      <th>0</th>\n",
       "      <td>01M015</td>\n",
       "      <td>P.S. 015 Roberto Clemente</td>\n",
       "      <td>2017-18</td>\n",
       "      <td>190</td>\n",
       "      <td>99</td>\n",
       "      <td>0.521</td>\n",
       "      <td>91</td>\n",
       "      <td>0.479</td>\n",
       "      <td>20</td>\n",
       "      <td>0.105</td>\n",
       "      <td>...</td>\n",
       "      <td>0.032</td>\n",
       "      <td>0</td>\n",
       "      <td>0.0</td>\n",
       "      <td>49</td>\n",
       "      <td>0.258</td>\n",
       "      <td>8</td>\n",
       "      <td>0.042</td>\n",
       "      <td>161</td>\n",
       "      <td>84.7%</td>\n",
       "      <td>89.0%</td>\n",
       "    </tr>\n",
       "    <tr>\n",
       "      <th>1</th>\n",
       "      <td>01M015</td>\n",
       "      <td>P.S. 015 Roberto Clemente</td>\n",
       "      <td>2018-19</td>\n",
       "      <td>174</td>\n",
       "      <td>85</td>\n",
       "      <td>0.489</td>\n",
       "      <td>89</td>\n",
       "      <td>0.511</td>\n",
       "      <td>24</td>\n",
       "      <td>0.138</td>\n",
       "      <td>...</td>\n",
       "      <td>0.034</td>\n",
       "      <td>0</td>\n",
       "      <td>0.0</td>\n",
       "      <td>39</td>\n",
       "      <td>0.224</td>\n",
       "      <td>8</td>\n",
       "      <td>0.046</td>\n",
       "      <td>147</td>\n",
       "      <td>84.5%</td>\n",
       "      <td>88.8%</td>\n",
       "    </tr>\n",
       "    <tr>\n",
       "      <th>2</th>\n",
       "      <td>01M015</td>\n",
       "      <td>P.S. 015 Roberto Clemente</td>\n",
       "      <td>2019-20</td>\n",
       "      <td>190</td>\n",
       "      <td>94</td>\n",
       "      <td>0.495</td>\n",
       "      <td>96</td>\n",
       "      <td>0.505</td>\n",
       "      <td>27</td>\n",
       "      <td>0.142</td>\n",
       "      <td>...</td>\n",
       "      <td>0.047</td>\n",
       "      <td>0</td>\n",
       "      <td>0.0</td>\n",
       "      <td>46</td>\n",
       "      <td>0.242</td>\n",
       "      <td>17</td>\n",
       "      <td>0.089</td>\n",
       "      <td>155</td>\n",
       "      <td>81.6%</td>\n",
       "      <td>86.7%</td>\n",
       "    </tr>\n",
       "    <tr>\n",
       "      <th>3</th>\n",
       "      <td>01M015</td>\n",
       "      <td>P.S. 015 Roberto Clemente</td>\n",
       "      <td>2020-21</td>\n",
       "      <td>193</td>\n",
       "      <td>101</td>\n",
       "      <td>0.523</td>\n",
       "      <td>92</td>\n",
       "      <td>0.477</td>\n",
       "      <td>26</td>\n",
       "      <td>0.135</td>\n",
       "      <td>...</td>\n",
       "      <td>0.057</td>\n",
       "      <td>0</td>\n",
       "      <td>0.0</td>\n",
       "      <td>44</td>\n",
       "      <td>0.228</td>\n",
       "      <td>21</td>\n",
       "      <td>0.109</td>\n",
       "      <td>161</td>\n",
       "      <td>83.4%</td>\n",
       "      <td>86.4%</td>\n",
       "    </tr>\n",
       "    <tr>\n",
       "      <th>4</th>\n",
       "      <td>01M015</td>\n",
       "      <td>P.S. 015 Roberto Clemente</td>\n",
       "      <td>2021-22</td>\n",
       "      <td>179</td>\n",
       "      <td>96</td>\n",
       "      <td>0.536</td>\n",
       "      <td>83</td>\n",
       "      <td>0.464</td>\n",
       "      <td>21</td>\n",
       "      <td>0.117</td>\n",
       "      <td>...</td>\n",
       "      <td>0.067</td>\n",
       "      <td>0</td>\n",
       "      <td>0.0</td>\n",
       "      <td>38</td>\n",
       "      <td>0.212</td>\n",
       "      <td>11</td>\n",
       "      <td>0.061</td>\n",
       "      <td>150</td>\n",
       "      <td>83.8%</td>\n",
       "      <td>87.9%</td>\n",
       "    </tr>\n",
       "  </tbody>\n",
       "</table>\n",
       "<p>5 rows × 29 columns</p>\n",
       "</div>"
      ],
      "text/plain": [
       "      DBN                School Name     Year  Total Enrollment  # Female  \\\n",
       "0  01M015  P.S. 015 Roberto Clemente  2017-18               190        99   \n",
       "1  01M015  P.S. 015 Roberto Clemente  2018-19               174        85   \n",
       "2  01M015  P.S. 015 Roberto Clemente  2019-20               190        94   \n",
       "3  01M015  P.S. 015 Roberto Clemente  2020-21               193       101   \n",
       "4  01M015  P.S. 015 Roberto Clemente  2021-22               179        96   \n",
       "\n",
       "   % Female  # Male  % Male  # Asian  % Asian  ...  % White  \\\n",
       "0     0.521      91   0.479       20    0.105  ...    0.032   \n",
       "1     0.489      89   0.511       24    0.138  ...    0.034   \n",
       "2     0.495      96   0.505       27    0.142  ...    0.047   \n",
       "3     0.523      92   0.477       26    0.135  ...    0.057   \n",
       "4     0.536      83   0.464       21    0.117  ...    0.067   \n",
       "\n",
       "   # Missing Race/Ethnicity Data  % Missing Race/Ethnicity Data  \\\n",
       "0                              0                            0.0   \n",
       "1                              0                            0.0   \n",
       "2                              0                            0.0   \n",
       "3                              0                            0.0   \n",
       "4                              0                            0.0   \n",
       "\n",
       "   # Students with Disabilities  % Students with Disabilities  \\\n",
       "0                            49                         0.258   \n",
       "1                            39                         0.224   \n",
       "2                            46                         0.242   \n",
       "3                            44                         0.228   \n",
       "4                            38                         0.212   \n",
       "\n",
       "   # English Language Learners  % English Language Learners  # Poverty  \\\n",
       "0                            8                        0.042        161   \n",
       "1                            8                        0.046        147   \n",
       "2                           17                        0.089        155   \n",
       "3                           21                        0.109        161   \n",
       "4                           11                        0.061        150   \n",
       "\n",
       "   % Poverty  Economic Need Index  \n",
       "0      84.7%                89.0%  \n",
       "1      84.5%                88.8%  \n",
       "2      81.6%                86.7%  \n",
       "3      83.4%                86.4%  \n",
       "4      83.8%                87.9%  \n",
       "\n",
       "[5 rows x 29 columns]"
      ]
     },
     "execution_count": 10,
     "metadata": {},
     "output_type": "execute_result"
    }
   ],
   "source": [
    "df.head()"
   ]
  },
  {
   "cell_type": "markdown",
   "metadata": {},
   "source": [
    "## Data analysis\n",
    "Place your **data analysis** code and documentation within this section.\n",
    "- Perform at least 5 different statistical or other analyses of different aspects of the data.\n",
    "    - Your analyses must be specific and relevant to your chosen data set and show interesting aspects of it.\n",
    "    - Include at least one analysis that includes grouping rows by a shared attribute and performing some kind of statistical analysis on each group.\n",
    "    - Sort the data in at least 1 of your analyses, but sort on its own does not constitute an analysis on its own.\n",
    "- Keep each of your Code cells short and focused on a single task.\n",
    "- Include a Markdown cell above each Code cell that describes what task the code within the Code cell is performing.\n",
    "- Make as many code cells as you need to complete the analysis - a few have been created for you to start with."
   ]
  },
  {
   "cell_type": "markdown",
   "metadata": {},
   "source": [
    "The first data analysis I did was to print the total enrollment, total males, and total females in each school in the 2021 - 2022 school year. First I filtered the dataset by the year of the data, then I grouped the values by school and summed the corresponding characteristics. Then the top 5 enrollment schools are listed and printed out."
   ]
  },
  {
   "cell_type": "code",
   "execution_count": 17,
   "metadata": {},
   "outputs": [
    {
     "data": {
      "text/html": [
       "<div>\n",
       "<style scoped>\n",
       "    .dataframe tbody tr th:only-of-type {\n",
       "        vertical-align: middle;\n",
       "    }\n",
       "\n",
       "    .dataframe tbody tr th {\n",
       "        vertical-align: top;\n",
       "    }\n",
       "\n",
       "    .dataframe thead th {\n",
       "        text-align: right;\n",
       "    }\n",
       "</style>\n",
       "<table border=\"1\" class=\"dataframe\">\n",
       "  <thead>\n",
       "    <tr style=\"text-align: right;\">\n",
       "      <th></th>\n",
       "      <th>Total Enrollment</th>\n",
       "      <th># Female</th>\n",
       "      <th># Male</th>\n",
       "    </tr>\n",
       "    <tr>\n",
       "      <th>School Name</th>\n",
       "      <th></th>\n",
       "      <th></th>\n",
       "      <th></th>\n",
       "    </tr>\n",
       "  </thead>\n",
       "  <tbody>\n",
       "    <tr>\n",
       "      <th>Brooklyn Technical High School</th>\n",
       "      <td>5958</td>\n",
       "      <td>2506</td>\n",
       "      <td>3452</td>\n",
       "    </tr>\n",
       "    <tr>\n",
       "      <th>Francis Lewis High School</th>\n",
       "      <td>4215</td>\n",
       "      <td>2036</td>\n",
       "      <td>2179</td>\n",
       "    </tr>\n",
       "    <tr>\n",
       "      <th>Fort Hamilton High School</th>\n",
       "      <td>4170</td>\n",
       "      <td>1977</td>\n",
       "      <td>2193</td>\n",
       "    </tr>\n",
       "    <tr>\n",
       "      <th>Midwood High School</th>\n",
       "      <td>4039</td>\n",
       "      <td>2238</td>\n",
       "      <td>1801</td>\n",
       "    </tr>\n",
       "    <tr>\n",
       "      <th>Tottenville High School</th>\n",
       "      <td>3707</td>\n",
       "      <td>1864</td>\n",
       "      <td>1843</td>\n",
       "    </tr>\n",
       "  </tbody>\n",
       "</table>\n",
       "</div>"
      ],
      "text/plain": [
       "                                Total Enrollment  # Female  # Male\n",
       "School Name                                                       \n",
       "Brooklyn Technical High School              5958      2506    3452\n",
       "Francis Lewis High School                   4215      2036    2179\n",
       "Fort Hamilton High School                   4170      1977    2193\n",
       "Midwood High School                         4039      2238    1801\n",
       "Tottenville High School                     3707      1864    1843"
      ]
     },
     "execution_count": 17,
     "metadata": {},
     "output_type": "execute_result"
    }
   ],
   "source": [
    "timed_frame = df.loc[df['Year'] == '2021-22']\n",
    "grouped_totalenroll_ppl = timed_frame.groupby(\"School Name\").agg({\"Total Enrollment\" : \"sum\", \"# Female\" : \"sum\", \"# Male\" : \"sum\"})\n",
    "grouped_ppl = grouped_totalenroll_ppl.sort_values(by=\"Total Enrollment\", ascending = False)\n",
    "grouped_ppl.head(5)"
   ]
  },
  {
   "cell_type": "code",
   "execution_count": null,
   "metadata": {},
   "outputs": [],
   "source": []
  },
  {
   "cell_type": "markdown",
   "metadata": {},
   "source": [
    "For the second analysis process, I decided to look at the number of students with disabilities in the 2021 to 2022 school year. Then I output the top 5 schools that have the maximum number of students with disabilities during that school year."
   ]
  },
  {
   "cell_type": "code",
   "execution_count": 18,
   "metadata": {},
   "outputs": [
    {
     "data": {
      "text/html": [
       "<div>\n",
       "<style scoped>\n",
       "    .dataframe tbody tr th:only-of-type {\n",
       "        vertical-align: middle;\n",
       "    }\n",
       "\n",
       "    .dataframe tbody tr th {\n",
       "        vertical-align: top;\n",
       "    }\n",
       "\n",
       "    .dataframe thead th {\n",
       "        text-align: right;\n",
       "    }\n",
       "</style>\n",
       "<table border=\"1\" class=\"dataframe\">\n",
       "  <thead>\n",
       "    <tr style=\"text-align: right;\">\n",
       "      <th></th>\n",
       "      <th># Students with Disabilities</th>\n",
       "    </tr>\n",
       "    <tr>\n",
       "      <th>School Name</th>\n",
       "      <th></th>\n",
       "    </tr>\n",
       "  </thead>\n",
       "  <tbody>\n",
       "    <tr>\n",
       "      <th>Tottenville High School</th>\n",
       "      <td>853</td>\n",
       "    </tr>\n",
       "    <tr>\n",
       "      <th>New Dorp High School</th>\n",
       "      <td>740</td>\n",
       "    </tr>\n",
       "    <tr>\n",
       "      <th>Susan E. Wagner High School</th>\n",
       "      <td>688</td>\n",
       "    </tr>\n",
       "    <tr>\n",
       "      <th>The Riverview School</th>\n",
       "      <td>676</td>\n",
       "    </tr>\n",
       "    <tr>\n",
       "      <th>Edward R. Murrow High School</th>\n",
       "      <td>670</td>\n",
       "    </tr>\n",
       "  </tbody>\n",
       "</table>\n",
       "</div>"
      ],
      "text/plain": [
       "                              # Students with Disabilities\n",
       "School Name                                               \n",
       "Tottenville High School                                853\n",
       "New Dorp High School                                   740\n",
       "Susan E. Wagner High School                            688\n",
       "The Riverview School                                   676\n",
       "Edward R. Murrow High School                           670"
      ]
     },
     "execution_count": 18,
     "metadata": {},
     "output_type": "execute_result"
    }
   ],
   "source": [
    "yearFilter = df.loc[df['Year'] == '2021-22']\n",
    "group_max_disability = yearFilter.groupby(\"School Name\").agg({\"# Students with Disabilities\" : \"max\"})\n",
    "group_max_disability = group_max_disability.sort_values(by=\"# Students with Disabilities\", ascending= False)\n",
    "group_max_disability.head(5)"
   ]
  },
  {
   "cell_type": "markdown",
   "metadata": {},
   "source": [
    "For the third data analysis process, I decided to find the median number of Total enrollment for the school called \"P.S. 015 Roberto Clemente\". It turns out that the median number of total enrollment during the 2017 - 2022 school years was equal to 190 - which shows up during the 2017 - 2018 school year and the 2019 - 2020 school year."
   ]
  },
  {
   "cell_type": "code",
   "execution_count": 19,
   "metadata": {},
   "outputs": [
    {
     "data": {
      "text/html": [
       "<div>\n",
       "<style scoped>\n",
       "    .dataframe tbody tr th:only-of-type {\n",
       "        vertical-align: middle;\n",
       "    }\n",
       "\n",
       "    .dataframe tbody tr th {\n",
       "        vertical-align: top;\n",
       "    }\n",
       "\n",
       "    .dataframe thead th {\n",
       "        text-align: right;\n",
       "    }\n",
       "</style>\n",
       "<table border=\"1\" class=\"dataframe\">\n",
       "  <thead>\n",
       "    <tr style=\"text-align: right;\">\n",
       "      <th></th>\n",
       "      <th>DBN</th>\n",
       "      <th>School Name</th>\n",
       "      <th>Year</th>\n",
       "      <th>Total Enrollment</th>\n",
       "      <th># Female</th>\n",
       "      <th>% Female</th>\n",
       "      <th># Male</th>\n",
       "      <th>% Male</th>\n",
       "      <th># Asian</th>\n",
       "      <th>% Asian</th>\n",
       "      <th>...</th>\n",
       "      <th>% White</th>\n",
       "      <th># Missing Race/Ethnicity Data</th>\n",
       "      <th>% Missing Race/Ethnicity Data</th>\n",
       "      <th># Students with Disabilities</th>\n",
       "      <th>% Students with Disabilities</th>\n",
       "      <th># English Language Learners</th>\n",
       "      <th>% English Language Learners</th>\n",
       "      <th># Poverty</th>\n",
       "      <th>% Poverty</th>\n",
       "      <th>Economic Need Index</th>\n",
       "    </tr>\n",
       "  </thead>\n",
       "  <tbody>\n",
       "    <tr>\n",
       "      <th>0</th>\n",
       "      <td>01M015</td>\n",
       "      <td>P.S. 015 Roberto Clemente</td>\n",
       "      <td>2017-18</td>\n",
       "      <td>190</td>\n",
       "      <td>99</td>\n",
       "      <td>0.521</td>\n",
       "      <td>91</td>\n",
       "      <td>0.479</td>\n",
       "      <td>20</td>\n",
       "      <td>0.105</td>\n",
       "      <td>...</td>\n",
       "      <td>0.032</td>\n",
       "      <td>0</td>\n",
       "      <td>0.0</td>\n",
       "      <td>49</td>\n",
       "      <td>0.258</td>\n",
       "      <td>8</td>\n",
       "      <td>0.042</td>\n",
       "      <td>161</td>\n",
       "      <td>84.7%</td>\n",
       "      <td>89.0%</td>\n",
       "    </tr>\n",
       "    <tr>\n",
       "      <th>2</th>\n",
       "      <td>01M015</td>\n",
       "      <td>P.S. 015 Roberto Clemente</td>\n",
       "      <td>2019-20</td>\n",
       "      <td>190</td>\n",
       "      <td>94</td>\n",
       "      <td>0.495</td>\n",
       "      <td>96</td>\n",
       "      <td>0.505</td>\n",
       "      <td>27</td>\n",
       "      <td>0.142</td>\n",
       "      <td>...</td>\n",
       "      <td>0.047</td>\n",
       "      <td>0</td>\n",
       "      <td>0.0</td>\n",
       "      <td>46</td>\n",
       "      <td>0.242</td>\n",
       "      <td>17</td>\n",
       "      <td>0.089</td>\n",
       "      <td>155</td>\n",
       "      <td>81.6%</td>\n",
       "      <td>86.7%</td>\n",
       "    </tr>\n",
       "  </tbody>\n",
       "</table>\n",
       "<p>2 rows × 29 columns</p>\n",
       "</div>"
      ],
      "text/plain": [
       "      DBN                School Name     Year  Total Enrollment  # Female  \\\n",
       "0  01M015  P.S. 015 Roberto Clemente  2017-18               190        99   \n",
       "2  01M015  P.S. 015 Roberto Clemente  2019-20               190        94   \n",
       "\n",
       "   % Female  # Male  % Male  # Asian  % Asian  ...  % White  \\\n",
       "0     0.521      91   0.479       20    0.105  ...    0.032   \n",
       "2     0.495      96   0.505       27    0.142  ...    0.047   \n",
       "\n",
       "   # Missing Race/Ethnicity Data  % Missing Race/Ethnicity Data  \\\n",
       "0                              0                            0.0   \n",
       "2                              0                            0.0   \n",
       "\n",
       "   # Students with Disabilities  % Students with Disabilities  \\\n",
       "0                            49                         0.258   \n",
       "2                            46                         0.242   \n",
       "\n",
       "   # English Language Learners  % English Language Learners  # Poverty  \\\n",
       "0                            8                        0.042        161   \n",
       "2                           17                        0.089        155   \n",
       "\n",
       "   % Poverty  Economic Need Index  \n",
       "0      84.7%                89.0%  \n",
       "2      81.6%                86.7%  \n",
       "\n",
       "[2 rows x 29 columns]"
      ]
     },
     "execution_count": 19,
     "metadata": {},
     "output_type": "execute_result"
    }
   ],
   "source": [
    "schoolFilter = df.loc[df[\"School Name\"] == 'P.S. 015 Roberto Clemente']\n",
    "median_value = schoolFilter[\"Total Enrollment\"].median()\n",
    "row = df.loc[(df[\"School Name\"] == \"P.S. 015 Roberto Clemente\") & (df[\"Total Enrollment\"] == median_value) ]\n",
    "row"
   ]
  },
  {
   "cell_type": "markdown",
   "metadata": {},
   "source": [
    "The fourth data analysis process I decided to do is to find the mean value of total enrollment across all the schools during the 2019-2020 school year. "
   ]
  },
  {
   "cell_type": "code",
   "execution_count": 14,
   "metadata": {},
   "outputs": [
    {
     "name": "stdout",
     "output_type": "stream",
     "text": [
      "580.9833243679398\n"
     ]
    }
   ],
   "source": [
    "year_2019_filter = df.loc[df[\"Year\"] == \"2019-20\"]\n",
    "meanVal2019 = year_2019_filter[\"Total Enrollment\"].mean()\n",
    "print(meanVal2019)"
   ]
  },
  {
   "cell_type": "markdown",
   "metadata": {},
   "source": [
    "The fifth data analysis process I decided to run is to find the schools that I found the schools that had a higher percentage of students being females than males in the 2017-2018 school year. Then I sorted the resulting dataset from the school with the the highest number of females. Although there are plenty of schools that are females only, it stands out to me that they are not the top female schools - meaning they are probably small in size. "
   ]
  },
  {
   "cell_type": "code",
   "execution_count": 22,
   "metadata": {},
   "outputs": [
    {
     "data": {
      "text/html": [
       "<div>\n",
       "<style scoped>\n",
       "    .dataframe tbody tr th:only-of-type {\n",
       "        vertical-align: middle;\n",
       "    }\n",
       "\n",
       "    .dataframe tbody tr th {\n",
       "        vertical-align: top;\n",
       "    }\n",
       "\n",
       "    .dataframe thead th {\n",
       "        text-align: right;\n",
       "    }\n",
       "</style>\n",
       "<table border=\"1\" class=\"dataframe\">\n",
       "  <thead>\n",
       "    <tr style=\"text-align: right;\">\n",
       "      <th></th>\n",
       "      <th>DBN</th>\n",
       "      <th>School Name</th>\n",
       "      <th>Year</th>\n",
       "      <th>Total Enrollment</th>\n",
       "      <th># Female</th>\n",
       "      <th>% Female</th>\n",
       "      <th># Male</th>\n",
       "      <th>% Male</th>\n",
       "      <th># Asian</th>\n",
       "      <th>% Asian</th>\n",
       "      <th>...</th>\n",
       "      <th>% White</th>\n",
       "      <th># Missing Race/Ethnicity Data</th>\n",
       "      <th>% Missing Race/Ethnicity Data</th>\n",
       "      <th># Students with Disabilities</th>\n",
       "      <th>% Students with Disabilities</th>\n",
       "      <th># English Language Learners</th>\n",
       "      <th>% English Language Learners</th>\n",
       "      <th># Poverty</th>\n",
       "      <th>% Poverty</th>\n",
       "      <th>Economic Need Index</th>\n",
       "    </tr>\n",
       "  </thead>\n",
       "  <tbody>\n",
       "    <tr>\n",
       "      <th>5235</th>\n",
       "      <td>22K405</td>\n",
       "      <td>Midwood High School</td>\n",
       "      <td>2017-18</td>\n",
       "      <td>4058</td>\n",
       "      <td>2284</td>\n",
       "      <td>0.563</td>\n",
       "      <td>1774</td>\n",
       "      <td>0.437</td>\n",
       "      <td>1447</td>\n",
       "      <td>0.357</td>\n",
       "      <td>...</td>\n",
       "      <td>0.220</td>\n",
       "      <td>75</td>\n",
       "      <td>0.018</td>\n",
       "      <td>437</td>\n",
       "      <td>0.108</td>\n",
       "      <td>130</td>\n",
       "      <td>0.032</td>\n",
       "      <td>3,057</td>\n",
       "      <td>75.3%</td>\n",
       "      <td>65.9%</td>\n",
       "    </tr>\n",
       "    <tr>\n",
       "      <th>5035</th>\n",
       "      <td>21K525</td>\n",
       "      <td>Edward R. Murrow High School</td>\n",
       "      <td>2017-18</td>\n",
       "      <td>3789</td>\n",
       "      <td>2207</td>\n",
       "      <td>0.582</td>\n",
       "      <td>1581</td>\n",
       "      <td>0.417</td>\n",
       "      <td>954</td>\n",
       "      <td>0.252</td>\n",
       "      <td>...</td>\n",
       "      <td>0.275</td>\n",
       "      <td>114</td>\n",
       "      <td>0.030</td>\n",
       "      <td>699</td>\n",
       "      <td>0.184</td>\n",
       "      <td>322</td>\n",
       "      <td>0.085</td>\n",
       "      <td>2,690</td>\n",
       "      <td>71.0%</td>\n",
       "      <td>67.6%</td>\n",
       "    </tr>\n",
       "    <tr>\n",
       "      <th>910</th>\n",
       "      <td>03M485</td>\n",
       "      <td>Fiorello H. LaGuardia High School of Music &amp; A...</td>\n",
       "      <td>2017-18</td>\n",
       "      <td>2809</td>\n",
       "      <td>2126</td>\n",
       "      <td>0.757</td>\n",
       "      <td>679</td>\n",
       "      <td>0.242</td>\n",
       "      <td>559</td>\n",
       "      <td>0.199</td>\n",
       "      <td>...</td>\n",
       "      <td>0.449</td>\n",
       "      <td>65</td>\n",
       "      <td>0.023</td>\n",
       "      <td>90</td>\n",
       "      <td>0.032</td>\n",
       "      <td>6</td>\n",
       "      <td>0.002</td>\n",
       "      <td>832</td>\n",
       "      <td>29.6%</td>\n",
       "      <td>31.0%</td>\n",
       "    </tr>\n",
       "    <tr>\n",
       "      <th>6635</th>\n",
       "      <td>28Q440</td>\n",
       "      <td>Forest Hills High School</td>\n",
       "      <td>2017-18</td>\n",
       "      <td>3783</td>\n",
       "      <td>1966</td>\n",
       "      <td>0.520</td>\n",
       "      <td>1814</td>\n",
       "      <td>0.480</td>\n",
       "      <td>900</td>\n",
       "      <td>0.238</td>\n",
       "      <td>...</td>\n",
       "      <td>0.297</td>\n",
       "      <td>96</td>\n",
       "      <td>0.025</td>\n",
       "      <td>552</td>\n",
       "      <td>0.146</td>\n",
       "      <td>291</td>\n",
       "      <td>0.077</td>\n",
       "      <td>2,800</td>\n",
       "      <td>74.0%</td>\n",
       "      <td>58.6%</td>\n",
       "    </tr>\n",
       "    <tr>\n",
       "      <th>6076</th>\n",
       "      <td>26Q415</td>\n",
       "      <td>Benjamin N. Cardozo High School</td>\n",
       "      <td>2017-18</td>\n",
       "      <td>3699</td>\n",
       "      <td>1939</td>\n",
       "      <td>0.524</td>\n",
       "      <td>1759</td>\n",
       "      <td>0.476</td>\n",
       "      <td>1555</td>\n",
       "      <td>0.420</td>\n",
       "      <td>...</td>\n",
       "      <td>0.136</td>\n",
       "      <td>31</td>\n",
       "      <td>0.008</td>\n",
       "      <td>483</td>\n",
       "      <td>0.131</td>\n",
       "      <td>164</td>\n",
       "      <td>0.044</td>\n",
       "      <td>2,488</td>\n",
       "      <td>67.3%</td>\n",
       "      <td>51.0%</td>\n",
       "    </tr>\n",
       "    <tr>\n",
       "      <th>...</th>\n",
       "      <td>...</td>\n",
       "      <td>...</td>\n",
       "      <td>...</td>\n",
       "      <td>...</td>\n",
       "      <td>...</td>\n",
       "      <td>...</td>\n",
       "      <td>...</td>\n",
       "      <td>...</td>\n",
       "      <td>...</td>\n",
       "      <td>...</td>\n",
       "      <td>...</td>\n",
       "      <td>...</td>\n",
       "      <td>...</td>\n",
       "      <td>...</td>\n",
       "      <td>...</td>\n",
       "      <td>...</td>\n",
       "      <td>...</td>\n",
       "      <td>...</td>\n",
       "      <td>...</td>\n",
       "      <td>...</td>\n",
       "      <td>...</td>\n",
       "    </tr>\n",
       "    <tr>\n",
       "      <th>6069</th>\n",
       "      <td>26Q376</td>\n",
       "      <td>P.S. 376</td>\n",
       "      <td>2017-18</td>\n",
       "      <td>101</td>\n",
       "      <td>52</td>\n",
       "      <td>0.515</td>\n",
       "      <td>49</td>\n",
       "      <td>0.485</td>\n",
       "      <td>61</td>\n",
       "      <td>0.604</td>\n",
       "      <td>...</td>\n",
       "      <td>0.119</td>\n",
       "      <td>0</td>\n",
       "      <td>0.000</td>\n",
       "      <td>8</td>\n",
       "      <td>0.079</td>\n",
       "      <td>12</td>\n",
       "      <td>0.119</td>\n",
       "      <td>54</td>\n",
       "      <td>53.5%</td>\n",
       "      <td>43.0%</td>\n",
       "    </tr>\n",
       "    <tr>\n",
       "      <th>7070</th>\n",
       "      <td>30Q235</td>\n",
       "      <td>Academy for New Americans</td>\n",
       "      <td>2017-18</td>\n",
       "      <td>101</td>\n",
       "      <td>51</td>\n",
       "      <td>0.505</td>\n",
       "      <td>50</td>\n",
       "      <td>0.495</td>\n",
       "      <td>20</td>\n",
       "      <td>0.198</td>\n",
       "      <td>...</td>\n",
       "      <td>0.129</td>\n",
       "      <td>0</td>\n",
       "      <td>0.000</td>\n",
       "      <td>1</td>\n",
       "      <td>0.010</td>\n",
       "      <td>101</td>\n",
       "      <td>1.000</td>\n",
       "      <td>Above 95%</td>\n",
       "      <td>Above 95%</td>\n",
       "      <td>82.6%</td>\n",
       "    </tr>\n",
       "    <tr>\n",
       "      <th>7782</th>\n",
       "      <td>75M401</td>\n",
       "      <td>Hospital Schools</td>\n",
       "      <td>2017-18</td>\n",
       "      <td>78</td>\n",
       "      <td>39</td>\n",
       "      <td>0.500</td>\n",
       "      <td>39</td>\n",
       "      <td>0.500</td>\n",
       "      <td>4</td>\n",
       "      <td>0.051</td>\n",
       "      <td>...</td>\n",
       "      <td>0.282</td>\n",
       "      <td>0</td>\n",
       "      <td>0.000</td>\n",
       "      <td>30</td>\n",
       "      <td>0.385</td>\n",
       "      <td>7</td>\n",
       "      <td>0.090</td>\n",
       "      <td>60</td>\n",
       "      <td>76.9%</td>\n",
       "      <td>79.2%</td>\n",
       "    </tr>\n",
       "    <tr>\n",
       "      <th>3427</th>\n",
       "      <td>13K869</td>\n",
       "      <td>District 13 PRE-K Center</td>\n",
       "      <td>2017-18</td>\n",
       "      <td>70</td>\n",
       "      <td>39</td>\n",
       "      <td>0.557</td>\n",
       "      <td>31</td>\n",
       "      <td>0.443</td>\n",
       "      <td>10</td>\n",
       "      <td>0.143</td>\n",
       "      <td>...</td>\n",
       "      <td>0.757</td>\n",
       "      <td>0</td>\n",
       "      <td>0.000</td>\n",
       "      <td>7</td>\n",
       "      <td>0.100</td>\n",
       "      <td>0</td>\n",
       "      <td>0.000</td>\n",
       "      <td>4</td>\n",
       "      <td>5.7%</td>\n",
       "      <td>9.8%</td>\n",
       "    </tr>\n",
       "    <tr>\n",
       "      <th>690</th>\n",
       "      <td>02M586</td>\n",
       "      <td>Harvey Milk High School</td>\n",
       "      <td>2017-18</td>\n",
       "      <td>64</td>\n",
       "      <td>36</td>\n",
       "      <td>0.563</td>\n",
       "      <td>28</td>\n",
       "      <td>0.438</td>\n",
       "      <td>1</td>\n",
       "      <td>0.016</td>\n",
       "      <td>...</td>\n",
       "      <td>0.094</td>\n",
       "      <td>0</td>\n",
       "      <td>0.000</td>\n",
       "      <td>27</td>\n",
       "      <td>0.422</td>\n",
       "      <td>4</td>\n",
       "      <td>0.063</td>\n",
       "      <td>59</td>\n",
       "      <td>92.2%</td>\n",
       "      <td>86.9%</td>\n",
       "    </tr>\n",
       "  </tbody>\n",
       "</table>\n",
       "<p>681 rows × 29 columns</p>\n",
       "</div>"
      ],
      "text/plain": [
       "         DBN                                        School Name     Year  \\\n",
       "5235  22K405                                Midwood High School  2017-18   \n",
       "5035  21K525                       Edward R. Murrow High School  2017-18   \n",
       "910   03M485  Fiorello H. LaGuardia High School of Music & A...  2017-18   \n",
       "6635  28Q440                           Forest Hills High School  2017-18   \n",
       "6076  26Q415                    Benjamin N. Cardozo High School  2017-18   \n",
       "...      ...                                                ...      ...   \n",
       "6069  26Q376                                           P.S. 376  2017-18   \n",
       "7070  30Q235                          Academy for New Americans  2017-18   \n",
       "7782  75M401                                   Hospital Schools  2017-18   \n",
       "3427  13K869                           District 13 PRE-K Center  2017-18   \n",
       "690   02M586                            Harvey Milk High School  2017-18   \n",
       "\n",
       "      Total Enrollment  # Female  % Female  # Male  % Male  # Asian  % Asian  \\\n",
       "5235              4058      2284     0.563    1774   0.437     1447    0.357   \n",
       "5035              3789      2207     0.582    1581   0.417      954    0.252   \n",
       "910               2809      2126     0.757     679   0.242      559    0.199   \n",
       "6635              3783      1966     0.520    1814   0.480      900    0.238   \n",
       "6076              3699      1939     0.524    1759   0.476     1555    0.420   \n",
       "...                ...       ...       ...     ...     ...      ...      ...   \n",
       "6069               101        52     0.515      49   0.485       61    0.604   \n",
       "7070               101        51     0.505      50   0.495       20    0.198   \n",
       "7782                78        39     0.500      39   0.500        4    0.051   \n",
       "3427                70        39     0.557      31   0.443       10    0.143   \n",
       "690                 64        36     0.563      28   0.438        1    0.016   \n",
       "\n",
       "      ...  % White  # Missing Race/Ethnicity Data  \\\n",
       "5235  ...    0.220                             75   \n",
       "5035  ...    0.275                            114   \n",
       "910   ...    0.449                             65   \n",
       "6635  ...    0.297                             96   \n",
       "6076  ...    0.136                             31   \n",
       "...   ...      ...                            ...   \n",
       "6069  ...    0.119                              0   \n",
       "7070  ...    0.129                              0   \n",
       "7782  ...    0.282                              0   \n",
       "3427  ...    0.757                              0   \n",
       "690   ...    0.094                              0   \n",
       "\n",
       "      % Missing Race/Ethnicity Data  # Students with Disabilities  \\\n",
       "5235                          0.018                           437   \n",
       "5035                          0.030                           699   \n",
       "910                           0.023                            90   \n",
       "6635                          0.025                           552   \n",
       "6076                          0.008                           483   \n",
       "...                             ...                           ...   \n",
       "6069                          0.000                             8   \n",
       "7070                          0.000                             1   \n",
       "7782                          0.000                            30   \n",
       "3427                          0.000                             7   \n",
       "690                           0.000                            27   \n",
       "\n",
       "      % Students with Disabilities  # English Language Learners  \\\n",
       "5235                         0.108                          130   \n",
       "5035                         0.184                          322   \n",
       "910                          0.032                            6   \n",
       "6635                         0.146                          291   \n",
       "6076                         0.131                          164   \n",
       "...                            ...                          ...   \n",
       "6069                         0.079                           12   \n",
       "7070                         0.010                          101   \n",
       "7782                         0.385                            7   \n",
       "3427                         0.100                            0   \n",
       "690                          0.422                            4   \n",
       "\n",
       "      % English Language Learners  # Poverty  % Poverty  Economic Need Index  \n",
       "5235                        0.032      3,057      75.3%                65.9%  \n",
       "5035                        0.085      2,690      71.0%                67.6%  \n",
       "910                         0.002        832      29.6%                31.0%  \n",
       "6635                        0.077      2,800      74.0%                58.6%  \n",
       "6076                        0.044      2,488      67.3%                51.0%  \n",
       "...                           ...        ...        ...                  ...  \n",
       "6069                        0.119         54      53.5%                43.0%  \n",
       "7070                        1.000  Above 95%  Above 95%                82.6%  \n",
       "7782                        0.090         60      76.9%                79.2%  \n",
       "3427                        0.000          4       5.7%                 9.8%  \n",
       "690                         0.063         59      92.2%                86.9%  \n",
       "\n",
       "[681 rows x 29 columns]"
      ]
     },
     "execution_count": 22,
     "metadata": {},
     "output_type": "execute_result"
    }
   ],
   "source": [
    "year_2017_filter = df.loc[df[\"Year\"] == '2017-18']\n",
    "moreFemale = year_2017_filter.loc[df[\"% Female\"] >= df[\"% Male\"]]\n",
    "sortedFemale = moreFemale.sort_values(by=\"# Female\", ascending = False)\n",
    "sortedFemale"
   ]
  },
  {
   "cell_type": "markdown",
   "metadata": {},
   "source": [
    "## Data visualization\n",
    "In this section, you will create a few **visualizations** that show some of the insights you have gathered from this data.\n",
    "- Create at least 5 different visualizations, where each visualization shows different insights into the data.\n",
    "- Use at least 3 different visualization types (e.g. bar charts, line charts, stacked area charts, pie charts, etc)\n",
    "- Create a Markdown cell and a Code cell for each, where you explain and show the visualizations, respectively.\n",
    "- Create as many additional cells as you need to prepare the data for the visualizations."
   ]
  },
  {
   "cell_type": "markdown",
   "metadata": {},
   "source": [
    "The first visualization plot I did was to plot the total enrollment, # of Females, and # of Males for the schools that have the highest total enrollment. The plot that I decided to use was a bar plot so we can see what the distribution of males and females look like at the highest enrolled schools."
   ]
  },
  {
   "cell_type": "code",
   "execution_count": 38,
   "metadata": {},
   "outputs": [
    {
     "data": {
      "text/plain": [
       "<Axes: xlabel='School Name'>"
      ]
     },
     "execution_count": 38,
     "metadata": {},
     "output_type": "execute_result"
    },
    {
     "data": {
      "image/png": "[encoded data removed]",
      "text/plain": [
       "<Figure size 640x480 with 1 Axes>"
      ]
     },
     "metadata": {},
     "output_type": "display_data"
    }
   ],
   "source": [
    "school_enroll = df.groupby(\"School Name\").agg({\"Total Enrollment\":\"sum\", \"# Female\" : \"sum\", \"# Male\" : \"sum\"})\n",
    "school_enroll = school_enroll.sort_values(by=\"Total Enrollment\", ascending = False).head(5)\n",
    "school_enroll.plot.bar()"
   ]
  },
  {
   "cell_type": "markdown",
   "metadata": {},
   "source": [
    "The second plot I decided to plot was a line graph that shows the number of students per race at the Brooklyn Technical High School over time. The graph starts with the racial breakdown of the school during the 2017 - 2018 school year and ends in the 2021 - 2022 school year. "
   ]
  },
  {
   "cell_type": "code",
   "execution_count": 41,
   "metadata": {},
   "outputs": [
    {
     "data": {
      "text/plain": [
       "<Axes: xlabel='Year'>"
      ]
     },
     "execution_count": 41,
     "metadata": {},
     "output_type": "execute_result"
    },
    {
     "data": {
      "image/png": "[encoded data removed]",
      "text/plain": [
       "<Figure size 640x480 with 1 Axes>"
      ]
     },
     "metadata": {},
     "output_type": "display_data"
    }
   ],
   "source": [
    "single_school = df.loc[df[\"School Name\"] == \"Brooklyn Technical High School\"]\n",
    "all_races = single_school[['Year' ,'# Asian', '# Black', '# Hispanic', '# Multi-Racial', '# Native American', '# White', '# Missing Race/Ethnicity Data'] ].set_index('Year')\n",
    "all_races.plot.line()"
   ]
  },
  {
   "cell_type": "markdown",
   "metadata": {},
   "source": [
    "The third plot I decided to plot is a pie chart that shows the percentage breakdown of the race of students in all the schools during the 2021 - 2022 school year. No specific school was used to plot the total distribution, rather all the students in New York City was used to calculate the aggregated sum."
   ]
  },
  {
   "cell_type": "code",
   "execution_count": 84,
   "metadata": {},
   "outputs": [
    {
     "data": {
      "text/plain": [
       "<Axes: ylabel='2021-22'>"
      ]
     },
     "execution_count": 84,
     "metadata": {},
     "output_type": "execute_result"
    },
    {
     "data": {
      "image/png": "[encoded data removed]",
      "text/plain": [
       "<Figure size 640x480 with 1 Axes>"
      ]
     },
     "metadata": {},
     "output_type": "display_data"
    }
   ],
   "source": [
    "total_race = df[['Year' ,'# Asian', '# Black', '# Hispanic', '# Multi-Racial', '# Native American', '# White', '# Missing Race/Ethnicity Data']]\n",
    "grouped_year_race = total_race.groupby(\"Year\").agg('sum')\n",
    "grouped_year_race.loc['2021-22'].plot.pie()"
   ]
  },
  {
   "cell_type": "markdown",
   "metadata": {},
   "source": [
    "The fourth plot that I decided to plot was the percentage of males to females in each year across the city. Again, no specific school was used to plot the sum, so the aggregate sum over NYC was used. I also decided to use an area plot so that I can identify how the changes in % of students would occur as the school year progressed."
   ]
  },
  {
   "cell_type": "code",
   "execution_count": 93,
   "metadata": {},
   "outputs": [
    {
     "data": {
      "text/plain": [
       "<Axes: xlabel='Year'>"
      ]
     },
     "execution_count": 93,
     "metadata": {},
     "output_type": "execute_result"
    },
    {
     "data": {
      "image/png": "[encoded data removed]",
      "text/plain": [
       "<Figure size 640x480 with 1 Axes>"
      ]
     },
     "metadata": {},
     "output_type": "display_data"
    }
   ],
   "source": [
    "breakdown = df.groupby(\"Year\").agg({\"# Male\" : \"sum\" , \"# Female\" : 'sum'})\n",
    "breakdown.plot.area()"
   ]
  },
  {
   "cell_type": "markdown",
   "metadata": {},
   "source": [
    "The final visual plot that I decided to do is a scatter plot that shows the top 10 schools (by % of students in poverty) and the relationship with the % of English Language learners. I was hoping to see some relationship between % of student's being english language learners and the % of student's in poverty. "
   ]
  },
  {
   "cell_type": "code",
   "execution_count": 140,
   "metadata": {},
   "outputs": [
    {
     "data": {
      "text/plain": [
       "<Axes: xlabel='% Poverty', ylabel='% English Language Learners'>"
      ]
     },
     "execution_count": 140,
     "metadata": {},
     "output_type": "execute_result"
    },
    {
     "data": {
      "image/png": "[encoded data removed]",
      "text/plain": [
       "<Figure size 640x480 with 1 Axes>"
      ]
     },
     "metadata": {},
     "output_type": "display_data"
    }
   ],
   "source": [
    "yeared = df.loc[df[\"Year\"] == '2021-22']\n",
    "filteredf = df.loc[df['% Poverty']!= 'Above 95%']\n",
    "data = filteredf[['% Poverty', '% English Language Learners']].head(10)\n",
    "sorted = data.sort_values(by='% Poverty',ascending=True)\n",
    "sorted.plot.scatter(x='% Poverty', y='% English Language Learners')"
   ]
  },
  {
   "cell_type": "code",
   "execution_count": null,
   "metadata": {},
   "outputs": [],
   "source": []
  },
  {
   "cell_type": "code",
   "execution_count": null,
   "metadata": {},
   "outputs": [],
   "source": []
  }
 ],
 "metadata": {
  "kernelspec": {
   "display_name": "Python 3",
   "language": "python",
   "name": "python3"
  },
  "language_info": {
   "codemirror_mode": {
    "name": "ipython",
    "version": 3
   },
   "file_extension": ".py",
   "mimetype": "text/x-python",
   "name": "python",
   "nbconvert_exporter": "python",
   "pygments_lexer": "ipython3",
   "version": "3.10.9"
  }
 },
 "nbformat": 4,
 "nbformat_minor": 4
}
